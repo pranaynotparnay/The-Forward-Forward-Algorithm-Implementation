{
  "nbformat": 4,
  "nbformat_minor": 0,
  "metadata": {
    "colab": {
      "provenance": [],
      "gpuType": "T4"
    },
    "kernelspec": {
      "name": "python3",
      "display_name": "Python 3"
    },
    "language_info": {
      "name": "python"
    },
    "accelerator": "GPU",
    "gpuClass": "standard"
  },
  "cells": [
    {
      "cell_type": "code",
      "source": [
        "import argparse\n",
        "import torch\n",
        "import torch.nn as nn\n",
        "from torchvision.datasets import ImageFolder\n",
        "from torchvision.transforms import Compose, ToTensor, Normalize, Lambda, Grayscale, Resize\n",
        "from torch.utils.data import DataLoader\n",
        "from torch.optim import AdamW\n"
      ],
      "metadata": {
        "id": "_m9rJ_MbfzIy"
      },
      "execution_count": 1,
      "outputs": []
    },
    {
      "cell_type": "code",
      "source": [
        "from google.colab import drive\n",
        "drive.mount('/content/gdrive')"
      ],
      "metadata": {
        "colab": {
          "base_uri": "https://localhost:8080/"
        },
        "id": "Od8iV62ao4nn",
        "outputId": "56f17648-002a-4260-b0aa-5ae63c4354f5"
      },
      "execution_count": 2,
      "outputs": [
        {
          "output_type": "stream",
          "name": "stdout",
          "text": [
            "Mounted at /content/gdrive\n"
          ]
        }
      ]
    },
    {
      "cell_type": "code",
      "source": [
        "!unzip gdrive/My\\ Drive/MODELS_DATA/fer2013.zip > /dev/null\n",
        "# /content/gdrive/MyDrive/MODELS_DATA/fer2013.zip"
      ],
      "metadata": {
        "id": "jJEX35foo4kI"
      },
      "execution_count": 3,
      "outputs": []
    },
    {
      "cell_type": "code",
      "source": [
        "class Args:\n",
        "    def __init__(self):\n",
        "        self.epochs = 1000\n",
        "        self.lr = 0.03\n",
        "        self.no_cuda = False\n",
        "        self.no_mps = False\n",
        "        self.seed = 1\n",
        "        self.save_model = False\n",
        "        self.train_size = 28709\n",
        "        self.threshold = 2\n",
        "        self.test_size = 7178\n",
        "        self.log_interval = 100"
      ],
      "metadata": {
        "id": "g7ZL9xj_fy9I"
      },
      "execution_count": 4,
      "outputs": []
    },
    {
      "cell_type": "code",
      "source": [
        "def get_y_neg(y):\n",
        "    y_neg = y.clone()\n",
        "    for idx, y_samp in enumerate(y):\n",
        "        allowed_indices = list(range(7))\n",
        "        allowed_indices.remove(y_samp.item())\n",
        "        y_neg[idx] = torch.tensor(allowed_indices)[\n",
        "            torch.randint(len(allowed_indices), size=(1,))\n",
        "        ].item()\n",
        "    return y_neg.to(device)\n",
        "\n",
        "def overlay_y_on_x(x, y, classes=7):\n",
        "    x_ = x.clone()\n",
        "    x_[:, :classes] *= 0.0\n",
        "    x_[range(x.shape[0]), y] = x.max()\n",
        "    return x_"
      ],
      "metadata": {
        "id": "Tqfa-Eqrfy5m"
      },
      "execution_count": 5,
      "outputs": []
    },
    {
      "cell_type": "code",
      "source": [
        "class Net(torch.nn.Module):\n",
        "    def __init__(self, dims):\n",
        "        super().__init__()\n",
        "        self.layers = []\n",
        "        for d in range(len(dims) - 1):\n",
        "            self.layers = self.layers + [Layer(dims[d], dims[d + 1]).to(device)]\n",
        "\n",
        "    def predict(self, x):\n",
        "        goodness_per_label = []\n",
        "        for label in range(7):\n",
        "            h = overlay_y_on_x(x, label)\n",
        "            goodness = []\n",
        "            for layer in self.layers:\n",
        "                h = layer(h)\n",
        "                goodness = goodness + [h.pow(2).mean(1)]\n",
        "            goodness_per_label += [sum(goodness).unsqueeze(1)]\n",
        "        goodness_per_label = torch.cat(goodness_per_label, 1)\n",
        "        return goodness_per_label.argmax(1)\n",
        "\n",
        "    def train(self, x_pos, x_neg):\n",
        "        h_pos, h_neg = x_pos, x_neg\n",
        "        for i, layer in enumerate(self.layers):\n",
        "            print(\"training layer: \", i)\n",
        "            h_pos, h_neg = layer.train(h_pos, h_neg)\n",
        "\n",
        "class Layer(nn.Linear):\n",
        "    def __init__(self, in_features, out_features, bias=True, device=None, dtype=None):\n",
        "        super().__init__(in_features, out_features, bias, device, dtype)\n",
        "        self.relu = torch.nn.ReLU()\n",
        "        self.opt = AdamW(self.parameters(), lr=args.lr)\n",
        "        self.threshold = args.threshold\n",
        "        self.num_epochs = args.epochs\n",
        "\n",
        "    def forward(self, x):\n",
        "        x_direction = x / (x.norm(2, 1, keepdim=True) + 1e-4)\n",
        "        return self.relu(torch.mm(x_direction, self.weight.T) + self.bias.unsqueeze(0))\n",
        "\n",
        "    def train(self, x_pos, x_neg):\n",
        "        for i in range(self.num_epochs):\n",
        "            g_pos = self.forward(x_pos).pow(2).mean(1)\n",
        "            g_neg = self.forward(x_neg).pow(2).mean(1)\n",
        "            loss = torch.log(\n",
        "                1\n",
        "                + torch.exp(\n",
        "                    torch.cat([-g_pos + self.threshold, g_neg - self.threshold])\n",
        "                )\n",
        "            ).mean()\n",
        "            self.opt.zero_grad()\n",
        "            loss.backward()\n",
        "            self.opt.step()\n",
        "            if i % args.log_interval == 0:\n",
        "                print(\"Loss: \", loss.item())\n",
        "        return self.forward(x_pos).detach(), self.forward(x_neg).detach()"
      ],
      "metadata": {
        "id": "jm6nj6y8fy23"
      },
      "execution_count": 6,
      "outputs": []
    },
    {
      "cell_type": "code",
      "source": [
        "if __name__ == \"__main__\":\n",
        "    args = Args()\n",
        "    use_cuda = not args.no_cuda and torch.cuda.is_available()\n",
        "    use_mps = not args.no_mps and torch.backends.mps.is_available()\n",
        "    if use_cuda:\n",
        "        device = torch.device(\"cuda\")\n",
        "    elif use_mps:\n",
        "        device = torch.device(\"mps\")\n",
        "    else:\n",
        "        device = torch.device(\"cpu\")\n",
        "\n",
        "    train_kwargs = {\"batch_size\": args.train_size}\n",
        "    test_kwargs = {\"batch_size\": args.test_size}\n",
        "\n",
        "    if use_cuda:\n",
        "        cuda_kwargs = {\"num_workers\": 1, \"pin_memory\": True, \"shuffle\": True}\n",
        "        train_kwargs.update(cuda_kwargs)\n",
        "        test_kwargs.update(cuda_kwargs)\n",
        "\n",
        "    transform = Compose(\n",
        "        [\n",
        "            Resize((48, 48)),\n",
        "            Grayscale(),\n",
        "            ToTensor(),\n",
        "            Normalize((0.5,), (0.5,)),\n",
        "            Lambda(lambda x: torch.flatten(x)),\n",
        "        ]\n",
        "    )\n",
        "    train_loader = DataLoader(\n",
        "        ImageFolder(\"/content/train\", transform=transform), **train_kwargs\n",
        "    )\n",
        "    test_loader = DataLoader(\n",
        "        ImageFolder(\"/content/test\", transform=transform), **test_kwargs\n",
        "    )\n",
        "    net = Net([2304, 500, 500])\n",
        "\n",
        "    x, y = next(iter(train_loader))\n",
        "    x, y = x.to(device), y.to(device)\n",
        "    x_pos = overlay_y_on_x(x, y)\n",
        "    y_neg = get_y_neg(y)\n",
        "    x_neg = overlay_y_on_x(x, y_neg)\n",
        "\n",
        "    net.train(x_pos, x_neg)\n",
        "    train_error = 1.0 - net.predict(x).eq(y).float().mean().item()\n",
        "    print(\"train error:\", train_error)\n",
        "    train_accuracy = (1 - train_error) * 100\n",
        "    print(\"train accuracy: {:.2f}%\".format(train_accuracy))\n",
        "\n",
        "    x_te, y_te = next(iter(test_loader))\n",
        "    x_te, y_te = x_te.to(device), y_te.to(device)\n",
        "    if args.save_model:\n",
        "        torch.save(net.state_dict(), \"emotion_recognition.pt\")\n",
        "    test_error = 1.0 - net.predict(x_te).eq(y_te).float().mean().item()\n",
        "    print(\"test error:\", test_error)\n",
        "    test_accuracy = (1 - test_error) * 100\n",
        "    print(\"test accuracy: {:.2f}%\".format(test_accuracy))"
      ],
      "metadata": {
        "id": "KnG8JchaqYmm",
        "colab": {
          "base_uri": "https://localhost:8080/"
        },
        "outputId": "dd241081-a770-4d49-d382-6767d9ee65c8"
      },
      "execution_count": 7,
      "outputs": [
        {
          "output_type": "stream",
          "name": "stdout",
          "text": [
            "training layer:  0\n",
            "Loss:  1.1268709897994995\n",
            "Loss:  0.6782753467559814\n",
            "Loss:  0.6575350165367126\n",
            "Loss:  0.6454067826271057\n",
            "Loss:  0.6363899111747742\n",
            "Loss:  0.6278848052024841\n",
            "Loss:  0.6196228861808777\n",
            "Loss:  0.6115196347236633\n",
            "Loss:  0.6035373210906982\n",
            "Loss:  0.5956501960754395\n",
            "training layer:  1\n",
            "Loss:  1.1266690492630005\n",
            "Loss:  0.6498326063156128\n",
            "Loss:  0.6095683574676514\n",
            "Loss:  0.5922841429710388\n",
            "Loss:  0.5840622782707214\n",
            "Loss:  0.578546404838562\n",
            "Loss:  0.5741928815841675\n",
            "Loss:  0.5705272555351257\n",
            "Loss:  0.567319393157959\n",
            "Loss:  0.5644208788871765\n",
            "train error: 0.5762304365634918\n",
            "train accuracy: 42.38%\n",
            "test error: 0.619113951921463\n",
            "test accuracy: 38.09%\n"
          ]
        }
      ]
    },
    {
      "cell_type": "code",
      "source": [],
      "metadata": {
        "id": "6ZYdb-K_vWKh"
      },
      "execution_count": 8,
      "outputs": []
    },
    {
      "cell_type": "code",
      "source": [
        "from google.colab import output\n",
        "output.eval_js('new Audio(\"https://upload.wikimedia.org/wikipedia/commons/0/05/Beep-09.ogg\").play()')"
      ],
      "metadata": {
        "id": "X4GTw322qYbW"
      },
      "execution_count": 8,
      "outputs": []
    },
    {
      "cell_type": "code",
      "source": [],
      "metadata": {
        "id": "ymmkIq5yqYeH"
      },
      "execution_count": null,
      "outputs": []
    },
    {
      "cell_type": "code",
      "source": [],
      "metadata": {
        "id": "yDxevYM1qYjl"
      },
      "execution_count": null,
      "outputs": []
    },
    {
      "cell_type": "code",
      "source": [],
      "metadata": {
        "id": "Bbz5pTczqYg0"
      },
      "execution_count": null,
      "outputs": []
    }
  ]
}